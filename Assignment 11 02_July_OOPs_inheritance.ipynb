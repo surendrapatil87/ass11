{
 "cells": [
  {
   "cell_type": "markdown",
   "id": "52a22038",
   "metadata": {},
   "source": [
    "# 1. Explain what inheritance is in object-oriented programming and why it is used."
   ]
  },
  {
   "cell_type": "markdown",
   "id": "9fb22f3d",
   "metadata": {},
   "source": [
    "Ans:-\n",
    "    Inheritance acquiring properties, behavior from the base class. On top of it derived class can have their set of attributes and method. However the visibility for those limited to derived class only. On the other hand anything intorduced to base/parent class it will be available to derived/child class. Child class may or maynot use method content defined in parent class. In short it can be rewrite.\n",
    "\n",
    "In OOPs, It is one of core concept. It will give developer to defined base class with attributes and methods which can be used by mutiple dervied class. It means common set of attributes and methods extended to get implemented in derived class. In case of any changes required than it can be done at place and applicability extended to all derived class. Aprt from this derived class can have their own specific methods and attribute. Any deviation of method at derived class limited to scope to derived class only."
   ]
  },
  {
   "cell_type": "markdown",
   "id": "95d73e72",
   "metadata": {},
   "source": [
    "# 2. Discuss the concept of single inheritance and multiple inheritance, highlighting their differences and advantages."
   ]
  },
  {
   "cell_type": "markdown",
   "id": "f3b36f31",
   "metadata": {},
   "source": [
    "Ans:- Single Inheritance: As name suggested, it inherits details from only one class. That approach ensures reusability, simplified parent child hierarchy\n",
    "\n",
    "    Provides a clear and linear class hierarchy.\n",
    "    Offers simplicity and ease of understanding.\n",
    "    Encourages code reusability within a single parent-child relationship.\n",
    "\n",
    "Multiple Inheritance: In this concept, derived class extended for multiple classes:\n",
    "\n",
    "    Allows for combining features and functionality from multiple sources.\n",
    "    Promotes code reuse and modular design.\n",
    "    Provides flexibility in class design by inheriting from multiple parent classes.\n"
   ]
  },
  {
   "cell_type": "markdown",
   "id": "37c257b0",
   "metadata": {},
   "source": [
    "# 3. Explain the terms \"base class\" and \"derived class\" in the context of inheritance."
   ]
  },
  {
   "cell_type": "markdown",
   "id": "ba81deb2",
   "metadata": {},
   "source": [
    "Ans:- Base Class : It is termed as parent class which has common attributes and genralized methods same can be inherited. Derived Class : On the other derived class will inherit all common attribute and method from the base class. On top of it they will have specific attribute and methods for the class."
   ]
  },
  {
   "cell_type": "code",
   "execution_count": 2,
   "id": "2598689d",
   "metadata": {},
   "outputs": [],
   "source": [
    "class Animal:\n",
    "    def __init__(self, name):\n",
    "        self.name = name\n",
    "    def make_sound(self):\n",
    "        print(f\" {self.name} is making some sound\")\n",
    "\n",
    "class Dog(Animal):\n",
    "    def __init__(self, name, sound):\n",
    "        super().__init__(name)\n",
    "        self.sound = sound # Initilized specific attribute for the child class\n",
    "    def make_sound(self):\n",
    "        super().make_sound()\n",
    "        print(f\"Sound is {self.sound}\") ## Derived class reritten the logic along with common logic from base class"
   ]
  },
  {
   "cell_type": "code",
   "execution_count": 3,
   "id": "81c8a1bf",
   "metadata": {},
   "outputs": [
    {
     "name": "stdout",
     "output_type": "stream",
     "text": [
      " Doberman is making some sound\n",
      "Sound is Woof\n"
     ]
    }
   ],
   "source": [
    "d1 = Dog('Doberman', 'Woof')\n",
    "d1.make_sound()"
   ]
  },
  {
   "cell_type": "markdown",
   "id": "4e274cd7",
   "metadata": {},
   "source": [
    "# 4. What is the significance of the \"protected\" access modifier in inheritance? How does it differ from \"private\" and \"public\" modifiers?"
   ]
  },
  {
   "cell_type": "markdown",
   "id": "a628e19b",
   "metadata": {},
   "source": [
    "Ans:- Python support access via modifier like public, private and protected private modifier comes up with __ protected modifier comes up with _ public fields doesn't have any prefix\n",
    "\n",
    "The use of the protected access modifier is mainly a way to indicate that an attribute or method should be treated as protected and accessed within the class and its subclasses. On the other hand, Private attributes or methods are intended to be accessed only within the class that defines them. And Public attributes or methods are accessible from anywhere, both within the class and outside the class."
   ]
  },
  {
   "cell_type": "markdown",
   "id": "7a4c1f54",
   "metadata": {},
   "source": [
    "# 5. What is the purpose of the \"super\" keyword in inheritance? Provide an example."
   ]
  },
  {
   "cell_type": "markdown",
   "id": "0143f0e0",
   "metadata": {},
   "source": [
    "Ans:- Super keyword used to access the method or attribute of parent/base class"
   ]
  },
  {
   "cell_type": "code",
   "execution_count": 4,
   "id": "d11539e8",
   "metadata": {},
   "outputs": [],
   "source": [
    "class Build_Struture:\n",
    "    def __init__(self, type):\n",
    "        self.type = type\n",
    "    \n",
    "    def build_type(self):\n",
    "        print(f\"Buidling type is {self.type}\")\n",
    "\n",
    "class Apartment(Build_Struture):\n",
    "    def __init__(self, name, type):\n",
    "        self.name = name\n",
    "        super().__init__(type)\n",
    "        \n",
    "    def build_type(self):\n",
    "        super().build_type()\n",
    "        print(f\" Apartment {self.name} \")"
   ]
  },
  {
   "cell_type": "code",
   "execution_count": 5,
   "id": "f93724e2",
   "metadata": {},
   "outputs": [
    {
     "name": "stdout",
     "output_type": "stream",
     "text": [
      "Buidling type is High rise\n",
      " Apartment Skylia \n"
     ]
    }
   ],
   "source": [
    "ap1 = Apartment( 'Skylia', 'High rise')\n",
    "ap1.build_type()"
   ]
  },
  {
   "cell_type": "markdown",
   "id": "36070ffa",
   "metadata": {},
   "source": [
    "# 6.Create a base class called \"Vehicle\" with attributes like \"make\", \"model\", and \"year\". Then, create a derived class called \"Car\" that inherits from \"Vehicle\" and adds an attribute called \"fuel_type\". Implement appropriate methods in both classes."
   ]
  },
  {
   "cell_type": "code",
   "execution_count": 6,
   "id": "617a4cd1",
   "metadata": {},
   "outputs": [],
   "source": [
    "\"\"\"Parent class with common attribute\"\"\"\n",
    "class Vehicle:\n",
    "    def __init__(self, make, model, year):\n",
    "        self.make = make\n",
    "        self.model = model\n",
    "        self.year = year\n",
    "    def vehicle_info(self):\n",
    "        print(f\"{self.make} vehicle of model {self.model} built in year {self.year} running successfully\")\n",
    "\"\"\"Child class with specific attibute sets and method \"\"\"\n",
    "class Car(Vehicle):\n",
    "    def __init__(self, make, model, year, fuel_type):\n",
    "        super().__init__(make, model,year)\n",
    "        self.fuel_type = fuel_type\n",
    "    def vehicle_info(self):\n",
    "        super().vehicle_info()\n",
    "        print(f\"Car type Vehicle running on fuel {self.fuel_type}\")"
   ]
  },
  {
   "cell_type": "code",
   "execution_count": 7,
   "id": "0cafd129",
   "metadata": {},
   "outputs": [
    {
     "name": "stdout",
     "output_type": "stream",
     "text": [
      "Mahindra vehicle of model Boelro-neo built in year 2022 running successfully\n",
      "Car type Vehicle running on fuel Diesel\n"
     ]
    }
   ],
   "source": [
    "c1 = Car('Mahindra', 'Boelro-neo', 2022, 'Diesel')\n",
    "c1.vehicle_info()"
   ]
  },
  {
   "cell_type": "markdown",
   "id": "08b32ac1",
   "metadata": {},
   "source": [
    "# 7. Create a base class called \"Employee\" with attributes like \"name\" and \"salary.\" Derive two classes, \"Manager\" and \"Developer,\" from \"Employee.\" Add an additional attribute called \"department\" for the \"Manager\" class and \"programming_language\" for the \"Developer\" class. "
   ]
  },
  {
   "cell_type": "code",
   "execution_count": 8,
   "id": "9cec4149",
   "metadata": {},
   "outputs": [],
   "source": [
    "\"\"\"Parent class with common attribute\"\"\"\n",
    "class Employee:\n",
    "    def __init__(self, name, salary):\n",
    "        self.name = name\n",
    "        self.salary = salary\n",
    "      \n",
    "    def emp_data(self):\n",
    "        print(f\"{self.name} employee wihtdraw salary {self.salary}\")\n",
    "\"\"\"Child class with specific attibute sets and method \"\"\"\n",
    "class Manager(Employee):\n",
    "    def __init__(self, name, salary, dep_type):\n",
    "        super().__init__( name, salary)\n",
    "        self.dep_type = dep_type\n",
    "    def emp_data(self):\n",
    "        super().emp_data()\n",
    "        print(f\"he represent the department {self.dep_type}\")\n",
    "class Developer(Employee):\n",
    "    def __init__(self, name, salary, pro_lang):\n",
    "        super().__init__(name, salary)\n",
    "        self.pro_lang = pro_lang\n",
    "    def emp_data(self):\n",
    "        super().emp_data()\n",
    "        print(f\"He is expertise at programing language {self.pro_lang}\")"
   ]
  },
  {
   "cell_type": "code",
   "execution_count": 9,
   "id": "eb4339b0",
   "metadata": {},
   "outputs": [
    {
     "name": "stdout",
     "output_type": "stream",
     "text": [
      "Madhu employee wihtdraw salary 45000\n",
      "he represent the department Project Managment\n",
      "Mohan employee wihtdraw salary 40000\n",
      "He is expertise at programing language Java/J2EE\n"
     ]
    }
   ],
   "source": [
    "m1 = Manager('Madhu', 45000, 'Project Managment')\n",
    "m1.emp_data()\n",
    "d1 = Developer('Mohan', 40000, 'Java/J2EE')\n",
    "d1.emp_data()"
   ]
  },
  {
   "cell_type": "markdown",
   "id": "660e3de9",
   "metadata": {},
   "source": [
    "# 8. Design a base class called \"Shape\" with attributes like \"colour\" and \"border_width.\" Create derived classes, \"Rectangle\" and \"Circle,\" that inherit from \"Shape\" and add specific attributes like \"length\" and \"width\" for the \"Rectangle\" class and \"radius\" for the \"Circle\" class."
   ]
  },
  {
   "cell_type": "code",
   "execution_count": 10,
   "id": "e45c2ea1",
   "metadata": {},
   "outputs": [],
   "source": [
    "\"\"\"Parent class with common attribute\"\"\"\n",
    "class Shape:\n",
    "    def __init__(self, colour, border_width):\n",
    "        self.colour = colour\n",
    "        self.border_width = border_width\n",
    "      \n",
    "    def shape_data(self):\n",
    "        print(f\"Shape is of following stats: {self.colour} and {self.border_width}\")\n",
    "\"\"\"Child class with specific attibute sets and method \"\"\"\n",
    "class Rectangle(Shape):\n",
    "    def __init__(self, colour, border_width, length, width):\n",
    "        super().__init__( colour, border_width)\n",
    "        self.length = length\n",
    "        self.width = width\n",
    "    def shape_data(self):\n",
    "        super().shape_data()\n",
    "        print(f\"Rectangle has following parameter length : {self.length} and width : {self.width}\")\n",
    "class Circle(Shape):\n",
    "    def __init__(self, colour, border_width, radius):\n",
    "        super().__init__(colour, border_width)\n",
    "        self.radius = radius\n",
    "    def shape_data(self):\n",
    "        super().shape_data()\n",
    "        print(f\"Circle has radisu : {self.radius}\")"
   ]
  },
  {
   "cell_type": "code",
   "execution_count": 11,
   "id": "6de5b6dd",
   "metadata": {},
   "outputs": [
    {
     "name": "stdout",
     "output_type": "stream",
     "text": [
      "Shape is of following stats: Red and 1.0\n",
      "Rectangle has following parameter length : 45.0 and width : 67.0\n",
      "Shape is of following stats: Yellow and 3.0\n",
      "Circle has radisu : 8.0\n"
     ]
    }
   ],
   "source": [
    "r1 = Rectangle('Red', 1.0, 45.0, 67.0)\n",
    "r1.shape_data()\n",
    "c1 = Circle('Yellow', 3.0, 8.0)\n",
    "c1.shape_data()"
   ]
  },
  {
   "cell_type": "markdown",
   "id": "9595e88e",
   "metadata": {},
   "source": [
    "# 9. Create a base class called \"Device\" with attributes like \"brand\" and \"model.\" Derive two classes, \"Phone\" and \"Tablet,\" from \"Device.\" Add specific attributes like \"screen_size\" for the \"Phone\" class and \"battery_capacity\" for the \"Tablet\" class."
   ]
  },
  {
   "cell_type": "code",
   "execution_count": 12,
   "id": "4a849d3a",
   "metadata": {},
   "outputs": [],
   "source": [
    "\"\"\"Parent class with common attribute\"\"\"\n",
    "class Device:\n",
    "    def __init__(self, brand, model):\n",
    "        self.brand = brand\n",
    "        self.model = model\n",
    "      \n",
    "    def device_info(self):\n",
    "        print(f\"Device has following stats: {self.brand} and {self.model}\")\n",
    "\"\"\"Child class with specific attibute sets and method \"\"\"\n",
    "class Phone(Device):\n",
    "    def __init__(self, brand, model, screen_size):\n",
    "        super().__init__( brand, model)\n",
    "        self.screen_size = screen_size\n",
    "        \n",
    "    def device_info(self):\n",
    "        super().device_info()\n",
    "        print(f\"Phone has Screen Size: {self.screen_size} inches\")\n",
    "class Tablet(Device):\n",
    "    def __init__(self, brand, model, battery_capacity):\n",
    "        super().__init__(brand, model)\n",
    "        self.battery_capacity = battery_capacity\n",
    "    def device_info(self):\n",
    "        super().device_info()\n",
    "        print(f\"Tablet  has battery capacity : {self.battery_capacity} mhb\")"
   ]
  },
  {
   "cell_type": "code",
   "execution_count": 13,
   "id": "022a8b35",
   "metadata": {},
   "outputs": [
    {
     "name": "stdout",
     "output_type": "stream",
     "text": [
      "Device has following stats: Samsung and Max Pro\n",
      "Phone has Screen Size: 12 inches\n",
      "Device has following stats: Apple and iPad\n",
      "Tablet  has battery capacity : 1200 mhb\n"
     ]
    }
   ],
   "source": [
    "p1 = Phone('Samsung' , 'Max Pro', 12)\n",
    "p1.device_info()\n",
    "t1 = Tablet('Apple' , 'iPad', 1200)\n",
    "t1.device_info()"
   ]
  },
  {
   "cell_type": "markdown",
   "id": "a908a47a",
   "metadata": {},
   "source": [
    "# 10. Create a base class called \"BankAccount\" with attributes like \"account_number\" and \"balance.\" Derive two classes, \"SavingsAccount\" and \"CheckingAccount,\" from \"BankAccount.\" Add specific methods like \"calculate_interest\" for the \"SavingsAccount\" class and \"deduct_fees\" for the \"CheckingAccount\" class."
   ]
  },
  {
   "cell_type": "code",
   "execution_count": 14,
   "id": "748056e8",
   "metadata": {},
   "outputs": [],
   "source": [
    "\"\"\"Parent class with common attribute\"\"\"\n",
    "class BankAccount:\n",
    "    def __init__(self, account_number, balance):\n",
    "        self.account_number = account_number\n",
    "        self.balance = balance\n",
    "      \n",
    "    def acct_info(self):\n",
    "        print(f\"Account No : {self.account_number} has balance of {self.balance}\")\n",
    "\"\"\"Child class with specific attibute sets and method \"\"\"\n",
    "class SavingsAccount(BankAccount):\n",
    "    def __init__(self, account_number, balance):\n",
    "        super().__init__( account_number, balance)\n",
    "        \n",
    "    def calculate_interest(self):\n",
    "        super().acct_info()\n",
    "        print(f\"Saving Account no : {self.account_number} intrest is getting calculated as per 4% annum\")\n",
    "class CheckingAccount(BankAccount):\n",
    "    def __init__(self, account_number, balance):\n",
    "        super().__init__( account_number, balance)\n",
    "    def deduct_fees(self):\n",
    "        super().acct_info()\n",
    "        print(f\"Current Account :  {self.account_number} considered for the deduct fee of 500 per month\")"
   ]
  },
  {
   "cell_type": "code",
   "execution_count": 15,
   "id": "bb8bf12b",
   "metadata": {},
   "outputs": [
    {
     "name": "stdout",
     "output_type": "stream",
     "text": [
      "Account No : SB-0009 has balance of 670000\n",
      "Saving Account no : SB-0009 intrest is getting calculated as per 4% annum\n",
      "Account No : CB-0008 has balance of 89000\n",
      "Current Account :  CB-0008 considered for the deduct fee of 500 per month\n"
     ]
    }
   ],
   "source": [
    "s1 =SavingsAccount('SB-0009', 670000)\n",
    "s1.calculate_interest()\n",
    "c1 =CheckingAccount('CB-0008', 89000)\n",
    "c1.deduct_fees()"
   ]
  },
  {
   "cell_type": "code",
   "execution_count": null,
   "id": "870adf9d",
   "metadata": {},
   "outputs": [],
   "source": []
  }
 ],
 "metadata": {
  "kernelspec": {
   "display_name": "Python 3 (ipykernel)",
   "language": "python",
   "name": "python3"
  },
  "language_info": {
   "codemirror_mode": {
    "name": "ipython",
    "version": 3
   },
   "file_extension": ".py",
   "mimetype": "text/x-python",
   "name": "python",
   "nbconvert_exporter": "python",
   "pygments_lexer": "ipython3",
   "version": "3.10.9"
  }
 },
 "nbformat": 4,
 "nbformat_minor": 5
}
